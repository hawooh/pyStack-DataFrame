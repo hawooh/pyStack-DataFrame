{
 "cells": [
  {
   "cell_type": "markdown",
   "id": "9c48a56f",
   "metadata": {},
   "source": [
    "#### In this Class I will Cover\n",
    "- PySpark Dataframe\n",
    "- Reading The Dataset\n",
    "- Checking the Datatypes of the Column(Schema)\n",
    "- Selecting Columns And Indexing\n",
    "- Check Describe option similar to Pandas\n",
    "- Adding Columns\n",
    "- Dropping columns\n",
    "- Renaming Columns"
   ]
  },
  {
   "cell_type": "code",
   "execution_count": 1,
   "id": "5a8b153d",
   "metadata": {},
   "outputs": [],
   "source": [
    "from pyspark.sql import SparkSession\n"
   ]
  },
  {
   "cell_type": "code",
   "execution_count": 2,
   "id": "7807ab3f",
   "metadata": {},
   "outputs": [],
   "source": [
    "# Initialize a Spark session\n",
    "spark = SparkSession.builder.appName(\"example\").getOrCreate()"
   ]
  },
  {
   "cell_type": "code",
   "execution_count": 7,
   "id": "ffda9d78",
   "metadata": {},
   "outputs": [
    {
     "data": {
      "text/html": [
       "\n",
       "            <div>\n",
       "                <p><b>SparkSession - in-memory</b></p>\n",
       "                \n",
       "        <div>\n",
       "            <p><b>SparkContext</b></p>\n",
       "\n",
       "            <p><a href=\"http://E-Life:4041\">Spark UI</a></p>\n",
       "\n",
       "            <dl>\n",
       "              <dt>Version</dt>\n",
       "                <dd><code>v3.5.0</code></dd>\n",
       "              <dt>Master</dt>\n",
       "                <dd><code>local[*]</code></dd>\n",
       "              <dt>AppName</dt>\n",
       "                <dd><code>example</code></dd>\n",
       "            </dl>\n",
       "        </div>\n",
       "        \n",
       "            </div>\n",
       "        "
      ],
      "text/plain": [
       "<pyspark.sql.session.SparkSession at 0x210f16b7af0>"
      ]
     },
     "execution_count": 7,
     "metadata": {},
     "output_type": "execute_result"
    }
   ],
   "source": [
    "spark"
   ]
  },
  {
   "cell_type": "code",
   "execution_count": 10,
   "id": "a3636b7b",
   "metadata": {},
   "outputs": [
    {
     "data": {
      "text/plain": [
       "DataFrame[Duration: int, Date: string, Pulse: int, Maxpulse: int, Calories: double]"
      ]
     },
     "execution_count": 10,
     "metadata": {},
     "output_type": "execute_result"
    }
   ],
   "source": [
    "# Reading the dataset Method 1\n",
    "data = spark.read.csv(r\"C:\\Users\\OLAOYE OLUWATOBILOBA\\Videos\\Pandas\\Pandas\\dirtydata.csv\" , header=True, inferSchema=True)\n",
    "data"
   ]
  },
  {
   "cell_type": "code",
   "execution_count": 11,
   "id": "4517351c",
   "metadata": {},
   "outputs": [
    {
     "name": "stdout",
     "output_type": "stream",
     "text": [
      "root\n",
      " |-- Duration: integer (nullable = true)\n",
      " |-- Date: string (nullable = true)\n",
      " |-- Pulse: integer (nullable = true)\n",
      " |-- Maxpulse: integer (nullable = true)\n",
      " |-- Calories: double (nullable = true)\n",
      "\n"
     ]
    }
   ],
   "source": [
    "# Checking the datatypes of the columns (Schema)\n",
    "data.printSchema()"
   ]
  },
  {
   "cell_type": "code",
   "execution_count": 14,
   "id": "233d2399",
   "metadata": {},
   "outputs": [
    {
     "data": {
      "text/plain": [
       "DataFrame[Duration: int, Date: string, Pulse: int, Maxpulse: int, Calories: double]"
      ]
     },
     "execution_count": 14,
     "metadata": {},
     "output_type": "execute_result"
    }
   ],
   "source": [
    "# Reading the dataset Method 2\n",
    "df_pyspark=spark.read.option('header','true').csv(r\"C:\\Users\\OLAOYE OLUWATOBILOBA\\Videos\\Pandas\\Pandas\\dirtydata.csv\",inferSchema=True)\n",
    "df_pyspark"
   ]
  },
  {
   "cell_type": "code",
   "execution_count": 15,
   "id": "a0f66667",
   "metadata": {},
   "outputs": [
    {
     "name": "stdout",
     "output_type": "stream",
     "text": [
      "+--------+------------+-----+--------+--------+\n",
      "|Duration|        Date|Pulse|Maxpulse|Calories|\n",
      "+--------+------------+-----+--------+--------+\n",
      "|      60|'2020/12/01'|  110|     130|   409.1|\n",
      "|      60|'2020/12/02'|  117|     145|   479.0|\n",
      "|      60|'2020/12/03'|  103|     135|   340.0|\n",
      "|      45|'2020/12/04'|  109|     175|   282.4|\n",
      "|      45|'2020/12/05'|  117|     148|   406.0|\n",
      "|      60|'2020/12/06'|  102|     127|   300.0|\n",
      "|      60|'2020/12/07'|  110|     136|   374.0|\n",
      "|     450|'2020/12/08'|  104|     134|   253.3|\n",
      "|      30|'2020/12/09'|  109|     133|   195.1|\n",
      "|      60|'2020/12/10'|   98|     124|   269.0|\n",
      "|      60|'2020/12/11'|  103|     147|   329.3|\n",
      "|      60|'2020/12/12'|  100|     120|   250.7|\n",
      "|      60|'2020/12/12'|  100|     120|   250.7|\n",
      "|      60|'2020/12/13'|  106|     128|   345.3|\n",
      "|      60|'2020/12/14'|  104|     132|   379.3|\n",
      "|      60|'2020/12/15'|   98|     123|   275.0|\n",
      "|      60|'2020/12/16'|   98|     120|   215.2|\n",
      "|      60|'2020/12/17'|  100|     120|   300.0|\n",
      "|      45|'2020/12/18'|   90|     112|    NULL|\n",
      "|      60|'2020/12/19'|  103|     123|   323.0|\n",
      "+--------+------------+-----+--------+--------+\n",
      "only showing top 20 rows\n",
      "\n"
     ]
    }
   ],
   "source": [
    "#Load Dataset \n",
    "data.show()"
   ]
  },
  {
   "cell_type": "code",
   "execution_count": 16,
   "id": "4ee305a3",
   "metadata": {},
   "outputs": [
    {
     "data": {
      "text/plain": [
       "pyspark.sql.dataframe.DataFrame"
      ]
     },
     "execution_count": 16,
     "metadata": {},
     "output_type": "execute_result"
    }
   ],
   "source": [
    "# Data Type\n",
    "type(data)"
   ]
  },
  {
   "cell_type": "code",
   "execution_count": 17,
   "id": "ea227b70",
   "metadata": {},
   "outputs": [
    {
     "data": {
      "text/plain": [
       "[Row(Duration=60, Date=\"'2020/12/01'\", Pulse=110, Maxpulse=130, Calories=409.1),\n",
       " Row(Duration=60, Date=\"'2020/12/02'\", Pulse=117, Maxpulse=145, Calories=479.0),\n",
       " Row(Duration=60, Date=\"'2020/12/03'\", Pulse=103, Maxpulse=135, Calories=340.0)]"
      ]
     },
     "execution_count": 17,
     "metadata": {},
     "output_type": "execute_result"
    }
   ],
   "source": [
    "# Loading first 3 rows\n",
    "data.head(3)"
   ]
  },
  {
   "cell_type": "code",
   "execution_count": 40,
   "id": "3aea03ff",
   "metadata": {},
   "outputs": [
    {
     "name": "stdout",
     "output_type": "stream",
     "text": [
      "+------------+-----+--------+\n",
      "|        Date|Pulse|Maxpulse|\n",
      "+------------+-----+--------+\n",
      "|'2020/12/01'|  110|     220|\n",
      "|'2020/12/02'|  117|     234|\n",
      "|'2020/12/03'|  103|     206|\n",
      "|'2020/12/04'|  109|     218|\n",
      "|'2020/12/05'|  117|     234|\n",
      "|'2020/12/06'|  102|     204|\n",
      "|'2020/12/07'|  110|     220|\n",
      "|'2020/12/08'|  104|     208|\n",
      "|'2020/12/09'|  109|     218|\n",
      "|'2020/12/10'|   98|     196|\n",
      "|'2020/12/11'|  103|     206|\n",
      "|'2020/12/12'|  100|     200|\n",
      "|'2020/12/12'|  100|     200|\n",
      "|'2020/12/13'|  106|     212|\n",
      "|'2020/12/14'|  104|     208|\n",
      "|'2020/12/15'|   98|     196|\n",
      "|'2020/12/16'|   98|     196|\n",
      "|'2020/12/17'|  100|     200|\n",
      "|'2020/12/18'|   90|     180|\n",
      "|'2020/12/19'|  103|     206|\n",
      "+------------+-----+--------+\n",
      "only showing top 20 rows\n",
      "\n"
     ]
    }
   ],
   "source": [
    "# Selecting columns and indexing\n",
    "\n",
    "Data2 =data.select(['Date', 'Pulse','Maxpulse']).show()"
   ]
  },
  {
   "cell_type": "code",
   "execution_count": 43,
   "id": "e39aa40e",
   "metadata": {},
   "outputs": [
    {
     "name": "stdout",
     "output_type": "stream",
     "text": [
      "+-----+--------+------------+\n",
      "|Pulse|Maxpulse|        Date|\n",
      "+-----+--------+------------+\n",
      "|  110|     220|'2020/12/01'|\n",
      "|  117|     234|'2020/12/02'|\n",
      "|  103|     206|'2020/12/03'|\n",
      "|  109|     218|'2020/12/04'|\n",
      "|  117|     234|'2020/12/05'|\n",
      "|  102|     204|'2020/12/06'|\n",
      "|  110|     220|'2020/12/07'|\n",
      "|  104|     208|'2020/12/08'|\n",
      "|  109|     218|'2020/12/09'|\n",
      "|   98|     196|'2020/12/10'|\n",
      "|  103|     206|'2020/12/11'|\n",
      "|  100|     200|'2020/12/12'|\n",
      "|  100|     200|'2020/12/12'|\n",
      "|  106|     212|'2020/12/13'|\n",
      "|  104|     208|'2020/12/14'|\n",
      "|   98|     196|'2020/12/15'|\n",
      "|   98|     196|'2020/12/16'|\n",
      "|  100|     200|'2020/12/17'|\n",
      "|   90|     180|'2020/12/18'|\n",
      "|  103|     206|'2020/12/19'|\n",
      "+-----+--------+------------+\n",
      "only showing top 20 rows\n",
      "\n"
     ]
    }
   ],
   "source": [
    "Data3 = data.select([ 'Pulse','Maxpulse', data['Date']]).show()"
   ]
  },
  {
   "cell_type": "code",
   "execution_count": 46,
   "id": "fc549935",
   "metadata": {},
   "outputs": [
    {
     "name": "stdout",
     "output_type": "stream",
     "text": [
      "+--------+------------+-----+--------+--------+---------+\n",
      "|Duration|        Date|Pulse|Maxpulse|Calories|pulse Two|\n",
      "+--------+------------+-----+--------+--------+---------+\n",
      "|      60|'2020/12/01'|  110|     220|   409.1|      440|\n",
      "|      60|'2020/12/02'|  117|     234|   479.0|      468|\n",
      "|      60|'2020/12/03'|  103|     206|   340.0|      412|\n",
      "|      45|'2020/12/04'|  109|     218|   282.4|      436|\n",
      "|      45|'2020/12/05'|  117|     234|   406.0|      468|\n",
      "|      60|'2020/12/06'|  102|     204|   300.0|      408|\n",
      "|      60|'2020/12/07'|  110|     220|   374.0|      440|\n",
      "|     450|'2020/12/08'|  104|     208|   253.3|      416|\n",
      "|      30|'2020/12/09'|  109|     218|   195.1|      436|\n",
      "|      60|'2020/12/10'|   98|     196|   269.0|      392|\n",
      "|      60|'2020/12/11'|  103|     206|   329.3|      412|\n",
      "|      60|'2020/12/12'|  100|     200|   250.7|      400|\n",
      "|      60|'2020/12/12'|  100|     200|   250.7|      400|\n",
      "|      60|'2020/12/13'|  106|     212|   345.3|      424|\n",
      "|      60|'2020/12/14'|  104|     208|   379.3|      416|\n",
      "|      60|'2020/12/15'|   98|     196|   275.0|      392|\n",
      "|      60|'2020/12/16'|   98|     196|   215.2|      392|\n",
      "|      60|'2020/12/17'|  100|     200|   300.0|      400|\n",
      "|      45|'2020/12/18'|   90|     180|    NULL|      360|\n",
      "|      60|'2020/12/19'|  103|     206|   323.0|      412|\n",
      "+--------+------------+-----+--------+--------+---------+\n",
      "only showing top 20 rows\n",
      "\n"
     ]
    }
   ],
   "source": [
    "### Adding Columns in data frame\n",
    "data =data.withColumn('pulse Two', data['Maxpulse']*2)\n",
    "data.show()"
   ]
  },
  {
   "cell_type": "code",
   "execution_count": 47,
   "id": "101c3841",
   "metadata": {},
   "outputs": [
    {
     "name": "stdout",
     "output_type": "stream",
     "text": [
      "+--------+------------+--------+--------+---------+\n",
      "|Duration|        Date|Maxpulse|Calories|pulse Two|\n",
      "+--------+------------+--------+--------+---------+\n",
      "|      60|'2020/12/01'|     220|   409.1|      440|\n",
      "|      60|'2020/12/02'|     234|   479.0|      468|\n",
      "|      60|'2020/12/03'|     206|   340.0|      412|\n",
      "|      45|'2020/12/04'|     218|   282.4|      436|\n",
      "|      45|'2020/12/05'|     234|   406.0|      468|\n",
      "|      60|'2020/12/06'|     204|   300.0|      408|\n",
      "|      60|'2020/12/07'|     220|   374.0|      440|\n",
      "|     450|'2020/12/08'|     208|   253.3|      416|\n",
      "|      30|'2020/12/09'|     218|   195.1|      436|\n",
      "|      60|'2020/12/10'|     196|   269.0|      392|\n",
      "|      60|'2020/12/11'|     206|   329.3|      412|\n",
      "|      60|'2020/12/12'|     200|   250.7|      400|\n",
      "|      60|'2020/12/12'|     200|   250.7|      400|\n",
      "|      60|'2020/12/13'|     212|   345.3|      424|\n",
      "|      60|'2020/12/14'|     208|   379.3|      416|\n",
      "|      60|'2020/12/15'|     196|   275.0|      392|\n",
      "|      60|'2020/12/16'|     196|   215.2|      392|\n",
      "|      60|'2020/12/17'|     200|   300.0|      400|\n",
      "|      45|'2020/12/18'|     180|    NULL|      360|\n",
      "|      60|'2020/12/19'|     206|   323.0|      412|\n",
      "+--------+------------+--------+--------+---------+\n",
      "only showing top 20 rows\n",
      "\n"
     ]
    }
   ],
   "source": [
    "### Drop the columns\n",
    "data=data.drop('Pulse')\n",
    "data.show()"
   ]
  },
  {
   "cell_type": "code",
   "execution_count": 48,
   "id": "48ed41b2",
   "metadata": {},
   "outputs": [
    {
     "name": "stdout",
     "output_type": "stream",
     "text": [
      "+--------+------------+--------+--------+\n",
      "|Duration|    New Date|Maxpulse|Calories|\n",
      "+--------+------------+--------+--------+\n",
      "|      60|'2020/12/01'|     112|   409.1|\n",
      "|      60|'2020/12/02'|     119|   479.0|\n",
      "|      60|'2020/12/03'|     105|   340.0|\n",
      "|      45|'2020/12/04'|     111|   282.4|\n",
      "|      45|'2020/12/05'|     119|   406.0|\n",
      "|      60|'2020/12/06'|     104|   300.0|\n",
      "|      60|'2020/12/07'|     112|   374.0|\n",
      "|     450|'2020/12/08'|     106|   253.3|\n",
      "|      30|'2020/12/09'|     111|   195.1|\n",
      "|      60|'2020/12/10'|     100|   269.0|\n",
      "|      60|'2020/12/11'|     105|   329.3|\n",
      "|      60|'2020/12/12'|     102|   250.7|\n",
      "|      60|'2020/12/12'|     102|   250.7|\n",
      "|      60|'2020/12/13'|     108|   345.3|\n",
      "|      60|'2020/12/14'|     106|   379.3|\n",
      "|      60|'2020/12/15'|     100|   275.0|\n",
      "|      60|'2020/12/16'|     100|   215.2|\n",
      "|      60|'2020/12/17'|     102|   300.0|\n",
      "|      45|'2020/12/18'|      92|    NULL|\n",
      "|      60|'2020/12/19'|     105|   323.0|\n",
      "+--------+------------+--------+--------+\n",
      "only showing top 20 rows\n",
      "\n"
     ]
    }
   ],
   "source": [
    "### Rename the columns\n",
    "df_pyspark.withColumnRenamed('Date','New Date').show()"
   ]
  },
  {
   "cell_type": "code",
   "execution_count": null,
   "id": "37fb7b57",
   "metadata": {},
   "outputs": [],
   "source": []
  }
 ],
 "metadata": {
  "kernelspec": {
   "display_name": "venv",
   "language": "python",
   "name": "venv"
  },
  "language_info": {
   "codemirror_mode": {
    "name": "ipython",
    "version": 3
   },
   "file_extension": ".py",
   "mimetype": "text/x-python",
   "name": "python",
   "nbconvert_exporter": "python",
   "pygments_lexer": "ipython3",
   "version": "3.10.9"
  }
 },
 "nbformat": 4,
 "nbformat_minor": 5
}
